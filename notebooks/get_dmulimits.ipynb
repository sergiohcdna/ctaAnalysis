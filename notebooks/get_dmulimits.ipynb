{
 "cells": [
  {
   "cell_type": "markdown",
   "id": "hawaiian-rwanda",
   "metadata": {},
   "source": [
    "# Example of analysis script to get upper limits using csdmatter app"
   ]
  },
  {
   "cell_type": "code",
   "execution_count": 1,
   "id": "incredible-delta",
   "metadata": {},
   "outputs": [],
   "source": [
    "#   Default imports\n",
    "import gammalib\n",
    "import ctools\n",
    "import cscripts\n",
    "\n",
    "from ctaAnalysis.csdmatter import csdmatter\n",
    "\n",
    "import os"
   ]
  },
  {
   "cell_type": "code",
   "execution_count": 2,
   "id": "arctic-airport",
   "metadata": {},
   "outputs": [],
   "source": [
    "#   Name of fits with events from a dm simulation\n",
    "#   The fits I am using here is obtained from \n",
    "#   the example \"Simulation of gamma-ray emission from a Toy Dark halo\"\n",
    "file = 'ToyDarkHalo_dmflux_mass1000.0_chTau_DM001.fits'"
   ]
  },
  {
   "cell_type": "code",
   "execution_count": 3,
   "id": "arabic-arthur",
   "metadata": {},
   "outputs": [],
   "source": [
    "#   csdmatter App input parameters\n",
    "#   I know there are a lot of input parameters\n",
    "#   And, at some point, some of the parameters can change, BTW\n",
    "mmin          = 100.0         #   Minimum value of mass range to compute ULs (in GeV)\n",
    "mmax          = 1.e+5         #   Maximum value of mass range to compute ULs (in GeV)\n",
    "mnumpoints    = 10            #   Number of points to compute in the range [mmin,mmax]\n",
    "process       = 'ANNA'        #   Process\n",
    "channel       = 'b'           #   annihilation channel\n",
    "ewcorrections = True          #   include EW corrections. I am using PPPC4DMID tables\n",
    "logsigmav     = -25.443697    #   Log of sigmav (~3.6e-26)\n",
    "logastfactor  = 18.7          #   Log of Jfactor\n",
    "redshift      = 0.02          #   to take into account EBL\n",
    "eblmodel      = 'dominguez'   #   EBL model to use with ebl-table\n",
    "emin          = 30            #   Minimum energy to compute gamma-ray flux (in GeV)\n",
    "emax          = 1.e+5         #   Maximum energy to compute gamma-ray flux (in GeV)\n",
    "modtype       = 'PointSource' #   Model type\n",
    "ra            = 188.0         #   in degrees\n",
    "dec           = 12.5          #   in degrees\n",
    "nthreads      = 1             #   At this moment just 1 thread.\n",
    "                              #   I need to check how to implement multithread\n",
    "caldb         = 'prod3b-v2'\n",
    "irf           = 'North_z40_50h'\n",
    "srcname       = 'ToyDarkHalo' #   name of the source"
   ]
  },
  {
   "cell_type": "code",
   "execution_count": 4,
   "id": "fitted-volunteer",
   "metadata": {},
   "outputs": [],
   "source": [
    "#   Name of file to save results for every simulation\n",
    "ofname = 'dmResultsExample{0}.fits'.format( srcname )"
   ]
  },
  {
   "cell_type": "code",
   "execution_count": 5,
   "id": "renewable-longer",
   "metadata": {},
   "outputs": [],
   "source": [
    "#   Create instance of csdmatter app\n",
    "thistool = csdmatter()\n",
    "\n",
    "#   Passing input parameter to the app\n",
    "thistool[ 'inobs' ]         = file\n",
    "thistool[ 'srcname' ]       = srcname\n",
    "thistool[ 'mmin' ]          = mmin\n",
    "thistool[ 'mmax' ]          = mmax\n",
    "thistool[ 'mnumpoints' ]    = mnumpoints\n",
    "thistool[ 'process' ]       = process\n",
    "thistool[ 'channel' ]       = channel\n",
    "thistool[ 'ewcorrections' ] = ewcorrections\n",
    "thistool[ 'logsigmav' ]     = logsigmav\n",
    "thistool[ 'logastfactor' ]  = logastfactor\n",
    "thistool[ 'redshift' ]      = redshift\n",
    "thistool[ 'eblmodel' ]      = eblmodel\n",
    "thistool[ 'emin' ]          = emin\n",
    "thistool[ 'emax' ]          = emax\n",
    "thistool[ 'modtype' ]       = modtype\n",
    "thistool[ 'ra' ]            = ra\n",
    "thistool[ 'dec' ]           = dec\n",
    "thistool[ 'caldb' ]         = caldb\n",
    "thistool[ 'irf' ]           = irf\n",
    "thistool[ 'nthreads' ]      = nthreads\n",
    "thistool[ 'outfile' ]       = ofname\n",
    "#thistool[ 'clobber' ]       = True"
   ]
  },
  {
   "cell_type": "code",
   "execution_count": 6,
   "id": "sixth-expense",
   "metadata": {},
   "outputs": [],
   "source": [
    "#   Then, execute the csdmatter tool\n",
    "thistool.execute()"
   ]
  },
  {
   "cell_type": "code",
   "execution_count": 7,
   "id": "behind-above",
   "metadata": {},
   "outputs": [
    {
     "name": "stdout",
     "output_type": "stream",
     "text": [
      "RefEnergy\n",
      "Mass\n",
      "Flux\n",
      "EFlux\n",
      "TS\n",
      "UpperLimit\n",
      "ULCrossSection\n",
      "RefCrossSection\n",
      "ScaleFactor\n"
     ]
    }
   ],
   "source": [
    "#   Take a look to the results\n",
    "fits  = gammalib.GFits( ofname )\n",
    "table = fits.table( 1 )\n",
    "\n",
    "#   Check the name of the different colums saved in the fits\n",
    "for ncol in range( table.ncols() ) :\n",
    "    print( table[ ncol ].name() )"
   ]
  },
  {
   "cell_type": "code",
   "execution_count": 8,
   "id": "manual-gravity",
   "metadata": {},
   "outputs": [
    {
     "name": "stdout",
     "output_type": "stream",
     "text": [
      "Mass (TeV)\tUL[sigmav](cm**3/s)\t\n",
      "1.00e-01:\t\t8.081e-22\n",
      "2.15e-01:\t\t2.356e-22\n",
      "4.64e-01:\t\t9.730e-23\n",
      "1.00e+00:\t\t5.093e-23\n",
      "2.15e+00:\t\t3.019e-23\n",
      "4.64e+00:\t\t2.701e-23\n",
      "1.00e+01:\t\t4.107e-23\n",
      "2.15e+01:\t\t8.007e-23\n",
      "4.64e+01:\t\t1.667e-22\n",
      "1.00e+02:\t\t3.662e-22\n"
     ]
    }
   ],
   "source": [
    "#   Get masses and values of the upperlimits\n",
    "masses   = [ row for row in table[ 'Mass' ] ]\n",
    "sigmavul = [ row for row in table[ 'ULCrossSection' ] ]\n",
    "\n",
    "print( 'Mass (TeV)\\tUL[sigmav](cm**3/s)\\t' )\n",
    "for nrow in range( table.nrows() ) :\n",
    "    print( '{:.2e}:\\t\\t{:.3e}'.format( table[ 'Mass' ][ nrow ] , table[ 'ULCrossSection' ][ nrow ]) )"
   ]
  },
  {
   "cell_type": "code",
   "execution_count": 9,
   "id": "alien-miracle",
   "metadata": {},
   "outputs": [
    {
     "data": {
      "image/png": "[encoded data removed]",
      "text/plain": [
       "<Figure size 648x432 with 1 Axes>"
      ]
     },
     "metadata": {
      "needs_background": "light"
     },
     "output_type": "display_data"
    }
   ],
   "source": [
    "#   Plot the results\n",
    "import matplotlib.pyplot as plt\n",
    "\n",
    "fig , ax = plt.subplots( figsize=( 9 , 6 ) )\n",
    "\n",
    "ax.plot( masses , sigmavul , color=( 0.82 , 0.10 , 0.26 ) , lw=2 , label='Toy-DarkHalo' )\n",
    "\n",
    "ax.set_xlim( 1.e-1 , 1.e+2 )\n",
    "ax.set_ylim( 1.e-26 , 1.e-20 )\n",
    "ax.set_xscale( 'log' )\n",
    "ax.set_yscale( 'log' )\n",
    "ax.set_xlabel( 'Mass $(TeV)$' )\n",
    "ax.set_ylabel( '$\\\\langle\\\\sigma v\\\\rangle$ ($cm^{3} s^{-1}$)' )\n",
    "\n",
    "ax.legend( loc='best' , prop={ 'size': 10 } )\n",
    "\n",
    "plt.show()"
   ]
  },
  {
   "cell_type": "code",
   "execution_count": null,
   "id": "controlling-blond",
   "metadata": {},
   "outputs": [],
   "source": []
  }
 ],
 "metadata": {
  "kernelspec": {
   "display_name": "Python 3",
   "language": "python",
   "name": "python3"
  },
  "language_info": {
   "codemirror_mode": {
    "name": "ipython",
    "version": 3
   },
   "file_extension": ".py",
   "mimetype": "text/x-python",
   "name": "python",
   "nbconvert_exporter": "python",
   "pygments_lexer": "ipython3",
   "version": "3.7.3"
  }
 },
 "nbformat": 4,
 "nbformat_minor": 5
}
