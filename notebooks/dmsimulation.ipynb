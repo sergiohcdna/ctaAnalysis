{
 "cells": [
  {
   "cell_type": "markdown",
   "id": "exact-serum",
   "metadata": {},
   "source": [
    "# Simulation of gamma-ray emission from a Toy Dark halo"
   ]
  },
  {
   "cell_type": "code",
   "execution_count": 31,
   "id": "impressed-genetics",
   "metadata": {},
   "outputs": [],
   "source": [
    "#===================================#\n",
    "#   Tool to generate simulations    #\n",
    "#   of a Toy Dark halo for          #\n",
    "#   On observation modes            #\n",
    "#===================================#\n",
    "\n",
    "#-------------------------------------\n",
    "#Imports\n",
    "#-------------------------------------\n",
    "\n",
    "import gammalib\n",
    "import ctools\n",
    "import cscripts\n",
    "\n",
    "import numpy as np\n",
    "import os\n",
    "import time\n",
    "\n",
    "from ctaAnalysis.dmspectrum.dmflux import dmflux_anna\n",
    "import ctaAnalysis.tools.createmodels as cmodels\n",
    "\n",
    "%matplotlib inline"
   ]
  },
  {
   "cell_type": "code",
   "execution_count": 32,
   "id": "hispanic-myanmar",
   "metadata": {},
   "outputs": [],
   "source": [
    "# This function create a GModel container for the bkg\n",
    "# Based on the XML examples you can find in $CTOOLS/share/models\n",
    "def _gen_bkgmodel() :\n",
    "    \"\"\"\n",
    "    Create bkg model. This model assume that the bkg type\n",
    "    is modeled by the IRF provided by the user.\n",
    "\n",
    "    Return\n",
    "    ------\n",
    "    Gmodel for bkg\n",
    "    \"\"\"\n",
    "\n",
    "    #   XmlElement for the spectrum part\n",
    "    spectrum = gammalib.GXmlElement( 'spectrum type=\"PowerLaw\"' )\n",
    "\n",
    "    #   Append parameters for the powerlaw\n",
    "    spectrum.append( 'parameter name=\"Prefactor\" value=\"1\" error=\"0\" ' +\n",
    "        'scale=\"1\" min=\"0.001\" max=\"1000\" free=\"1\"' )\n",
    "    spectrum.append( 'parameter name=\"Index\" value=\"0\" error=\"0\" ' +\n",
    "        'scale=\"1\" min=\"-5\" max=\"5\" free=\"1\"' )\n",
    "    spectrum.append( 'parameter name=\"Scale\" value=\"1\" ' +\n",
    "        'scale=\"1000000\" min=\"0.01\" max=\"1000\" free=\"0\"' )\n",
    "\n",
    "    #   XmlElement for source\n",
    "    bkgxml = gammalib.GXmlElement( 'source name=\"CTABackgroundModel\" ' +\n",
    "        'type=\"CTAIrfBackground\" instrument=\"CTA\"' )\n",
    "\n",
    "    #   Append spectral part\n",
    "    bkgxml.append( spectrum )\n",
    "\n",
    "    #   Then create GModel\n",
    "    bkgmodel = gammalib.GCTAModelIrfBackground( bkgxml )\n",
    "\n",
    "    return bkgmodel\n"
   ]
  },
  {
   "cell_type": "code",
   "execution_count": 33,
   "id": "accredited-doctrine",
   "metadata": {},
   "outputs": [],
   "source": [
    "#   Parameters for pointSource Model of the Toy Dark halo\n",
    "\n",
    "srcname     = 'ToyDarkHalo'\n",
    "modtype     = 'PointSource'\n",
    "spectype    = 'FileFunction'\n",
    "dmmass      = 1.e+3 # in GeV\n",
    "channel     = 'Tau'\n",
    "#   File to save the gamma-ray flux\n",
    "fname       = '{0}_dmflux_mass{1}_ch{2}.txt'.format( srcname , dmmass , channel )\n",
    "ra          = 188.0   # in degrees\n",
    "dec         = 12.5    # in degrees\n",
    "sigmav      = 3.6e-26 # in cm**3 per s\n",
    "astrofactor = np.power( 10 , 18.7 ) #   Dark Halo\n",
    "redshift    = 0.02\n",
    "eblmodel    = 'dominguez'\n",
    "hasEW       = True\n",
    "emin        = 30.0          #   GeV\n",
    "emax        = 0.99 * dmmass #   GeV\n",
    "minval      = 0.0\n",
    "maxval      = 1.e+10\n"
   ]
  },
  {
   "cell_type": "code",
   "execution_count": 34,
   "id": "applied-brunei",
   "metadata": {},
   "outputs": [],
   "source": [
    "#   Parameters for CTA Observation\n",
    "tstart     = 0.0\n",
    "tfinish    = 5.0 * 3600 # 5 h times 3600 sec\n",
    "sim_emin   = 0.03  #  TeV\n",
    "sim_emax   = 100.0 #  TeV\n",
    "ROI_radius = 3.0   #  degrees\n",
    "irf        = 'North_z20_5h' #  Toy Dark Halo\n",
    "caldb      = 'prod3b-v2'\n"
   ]
  },
  {
   "cell_type": "code",
   "execution_count": 35,
   "id": "downtown-benefit",
   "metadata": {},
   "outputs": [],
   "source": [
    "#   Compute DM flux\n",
    "#   create instance of dmspectrum class to compute flux\n",
    "dmflux   = dmflux_anna( sigmav , astrofactor , dmmass , emin , emax ,\n",
    "    channel , redshift , eblmod=eblmodel , has_EW=hasEW )\n"
   ]
  },
  {
   "cell_type": "code",
   "execution_count": 36,
   "id": "alive-diary",
   "metadata": {},
   "outputs": [],
   "source": [
    "#   Get flux\n",
    "dphide   = dmflux.flux()\n",
    "\n",
    "#   Get energies used to compute the flux\n",
    "energies = dmflux.energy\n",
    "\n",
    "#   Save data to fname\n",
    "data     = np.array( ( energies * 1.e+3 , dphide * 1.e-3 ) ).transpose()\n",
    "np.savetxt( fname , data , fmt='%.5e' , delimiter=' ' )\n"
   ]
  },
  {
   "cell_type": "code",
   "execution_count": 37,
   "id": "progressive-department",
   "metadata": {},
   "outputs": [],
   "source": [
    "#   Plotting the gamma-ray flux\n",
    "import matplotlib.pyplot as plt"
   ]
  },
  {
   "cell_type": "code",
   "execution_count": 38,
   "id": "beneficial-southwest",
   "metadata": {},
   "outputs": [
    {
     "data": {
      "image/png": "[encoded data removed]",
      "text/plain": [
       "<Figure size 648x432 with 1 Axes>"
      ]
     },
     "metadata": {
      "needs_background": "light"
     },
     "output_type": "display_data"
    }
   ],
   "source": [
    "fig , ax = plt.subplots( figsize=( 9 , 6 ) )\n",
    "\n",
    "ax.plot( dmflux.energy * 1.e+3 , dphide * 1.e-3 , color=( 0.82 , 0.10 , 0.26 ) , lw=2 , label='dmclass' )\n",
    "\n",
    "ax.set_xlim( 1.e+4 , 1.e+7 )\n",
    "ax.set_ylim( 1.e-23 , 1.e-17 )\n",
    "ax.set_xscale( 'log' )\n",
    "ax.set_yscale( 'log' )\n",
    "ax.set_xlabel( 'Energy $(MeV)$' )\n",
    "ax.set_ylabel( '$\\\\frac{\\\\mathrm{d}\\\\Phi}{\\\\mathrm{d}E}$ ($cm^{-2} MeV^{-1} s^{-1}$)' )\n",
    "\n",
    "ax.legend( loc='best' , prop={ 'size': 10 } )\n",
    "\n",
    "plt.show()"
   ]
  },
  {
   "cell_type": "code",
   "execution_count": 39,
   "id": "spoken-stereo",
   "metadata": {},
   "outputs": [],
   "source": [
    "#   Generate GModelSky for Toy Dark Halo\n",
    "#   Create spectral GXmlElement\n",
    "xmlspec = cmodels.dm_spectral_xml( spectype , fname , minval=minval , maxval=maxval )\n",
    "\n",
    "#   Create spatial GXmlElement\n",
    "xmlspat = cmodels.dm_pointsource_xml( ra , dec )\n",
    "\n",
    "#   Create GModel Container\n",
    "dmmod        = cmodels.DMModel( srcname , modtype , xmlspec , xmlspat )\n",
    "thisdmmodel  = dmmod.model()\n"
   ]
  },
  {
   "cell_type": "code",
   "execution_count": 40,
   "id": "coordinated-solid",
   "metadata": {},
   "outputs": [],
   "source": [
    "#   Create background model\n",
    "thisbkgmodel = _gen_bkgmodel()\n"
   ]
  },
  {
   "cell_type": "code",
   "execution_count": 41,
   "id": "sudden-retention",
   "metadata": {},
   "outputs": [
    {
     "name": "stdout",
     "output_type": "stream",
     "text": [
      "=== GModels ===\n",
      " Number of models ..........: 2\n",
      " Number of parameters ......: 8\n",
      "=== GModelSky ===\n",
      " Name ......................: ToyDarkHalo\n",
      " Instruments ...............: all\n",
      " Test Statistic ............: Computation requested\n",
      " Observation identifiers ...: all\n",
      " Model type ................: PointSource\n",
      " Model components ..........: \"PointSource\" * \"FileFunction\" * \"Constant\"\n",
      " Number of parameters ......: 4\n",
      " Number of spatial par's ...: 2\n",
      "  RA .......................: 188 [-360,360] deg (fixed,scale=1)\n",
      "  DEC ......................: 12.5 [-90,90] deg (fixed,scale=1)\n",
      " Number of spectral par's ..: 1\n",
      "  Normalization ............: 1 +/- 0 [0,10000000000]  (free,scale=1,gradient)\n",
      " Number of temporal par's ..: 1\n",
      "  Normalization ............: 1 (relative value) (fixed,scale=1,gradient)\n",
      " Number of scale par's .....: 0\n",
      "=== GCTAModelIrfBackground ===\n",
      " Name ......................: CTABackgroundModel\n",
      " Instruments ...............: CTA\n",
      " Observation identifiers ...: all\n",
      " Model type ................: \"PowerLaw\" * \"Constant\"\n",
      " Number of parameters ......: 4\n",
      " Number of spectral par's ..: 3\n",
      "  Prefactor ................: 1 +/- 0 [0.001,1000] ph/cm2/s/MeV (free,scale=1,gradient)\n",
      "  Index ....................: 0 +/- 0 [-5,5]  (free,scale=1,gradient)\n",
      "  Scale ....................: 1000000 [10000,1000000000] MeV (fixed,scale=1000000,gradient)\n",
      " Number of temporal par's ..: 1\n",
      "  Normalization ............: 1 (relative value) (fixed,scale=1,gradient)\n"
     ]
    }
   ],
   "source": [
    "#   GModels source and append dm and bkg models\n",
    "dmmodels = gammalib.GModels()\n",
    "dmmodels.append( thisdmmodel )\n",
    "dmmodels.append( thisbkgmodel )\n",
    "\n",
    "#   Check the dmmodels container\n",
    "print( dmmodels )"
   ]
  },
  {
   "cell_type": "code",
   "execution_count": 42,
   "id": "designed-guard",
   "metadata": {},
   "outputs": [],
   "source": [
    "#   GModels source and append dm and bkg models\n",
    "dmmodels = gammalib.GModels()\n",
    "dmmodels.append( thisdmmodel )\n",
    "dmmodels.append( thisbkgmodel )\n",
    "\n",
    "#   The simulations are performed using default tools from\n",
    "#   cscripts.tools package\n",
    "#   Setting the observation in On-mode\n",
    "\n",
    "#   GSkyDir\n",
    "pntdir = gammalib.GSkyDir()\n",
    "pntdir.radec_deg( ra , dec )\n"
   ]
  },
  {
   "cell_type": "code",
   "execution_count": 43,
   "id": "compact-meter",
   "metadata": {},
   "outputs": [],
   "source": [
    "thisobsid = 'DM001'\n",
    "\n",
    "#   Set observation\n",
    "dmobs = cscripts.obsutils.set_obs( pntdir , tstart=tstart , \n",
    "                                  duration=tfinish , emin=sim_emin , emax=sim_emax , rad=ROI_radius ,\n",
    "                                  irf=irf ,caldb=caldb , obsid=thisobsid )\n",
    "\n",
    "#   Create GObservations container to append the dm observation\n",
    "obslist = gammalib.GObservations()\n",
    "\n",
    "#   Append observation\n",
    "obslist.append( dmobs )\n",
    "\n",
    "#   Append models\n",
    "obslist.models( dmmodels )"
   ]
  },
  {
   "cell_type": "code",
   "execution_count": 44,
   "id": "conventional-walker",
   "metadata": {},
   "outputs": [],
   "source": [
    "#   Start simulation\n",
    "#   You can change the parameter nthreads according to \n",
    "#   the number of cores available in your machine\n",
    "obssim = cscripts.obsutils.sim( obslist , log=False , debug=False ,\n",
    "                               chatter=4 , edisp=False , seed=int( time.time() ) , nthreads=1 )"
   ]
  },
  {
   "cell_type": "code",
   "execution_count": 46,
   "id": "powered-lindsay",
   "metadata": {},
   "outputs": [],
   "source": [
    "#   cscripts.obsutils.sim return a gammalib.GObservations container\n",
    "#   but, in order to save the fits file, I must to get obs from the\n",
    "#   container.\n",
    "fitsname = '{0}_dmflux_mass{1}_ch{2}_{3}.fits'.format( srcname , dmmass , channel , thisobsid )\n",
    "dmobs  = obssim[ 0 ]\n",
    "dmobs.save( fitsname )\n"
   ]
  },
  {
   "cell_type": "code",
   "execution_count": 47,
   "id": "incoming-sigma",
   "metadata": {},
   "outputs": [],
   "source": [
    "#   Take a look at the simulation\n",
    "#   This is taken from the HOW-to examples: \n",
    "#   http://cta.irap.omp.eu/ctools/users/tutorials/howto/howto_advanced_python_fitting.html\n",
    "\n",
    "skymap = ctools.ctskymap()\n",
    "skymap['inobs']       = fitsname\n",
    "skymap['emin']        = sim_emin\n",
    "skymap['emax']        = sim_emax\n",
    "skymap['nxpix']       = 40\n",
    "skymap['nypix']       = 40\n",
    "skymap['binsz']       = 0.02\n",
    "skymap['proj']        = 'TAN'\n",
    "skymap['coordsys']    = 'CEL'\n",
    "skymap['xref']        = ra\n",
    "skymap['yref']        = dec\n",
    "skymap['bkgsubtract'] = 'IRF'\n",
    "skymap['caldb']       = caldb\n",
    "skymap['irf']         = irf\n",
    "skymap.run()"
   ]
  },
  {
   "cell_type": "code",
   "execution_count": 48,
   "id": "understood-pixel",
   "metadata": {},
   "outputs": [
    {
     "name": "stderr",
     "output_type": "stream",
     "text": [
      "/usr/local/anaconda3/envs/ctasv1_7_1/lib/python3.7/site-packages/ipykernel_launcher.py:12: MatplotlibDeprecationWarning: default base will change from np.e to 10 in 3.4.  To suppress this warning specify the base keyword argument.\n",
      "  if sys.path[0] == '':\n"
     ]
    },
    {
     "data": {
      "image/png": "[encoded data removed]",
      "text/plain": [
       "<Figure size 432x288 with 2 Axes>"
      ]
     },
     "metadata": {
      "needs_background": "light"
     },
     "output_type": "display_data"
    }
   ],
   "source": [
    "# Slightly smooth the map for display to suppress statistical fluctuations\n",
    "skymap.skymap().smooth('GAUSSIAN',0.02)\n",
    "\n",
    "from matplotlib.colors import SymLogNorm\n",
    "# The SymLogNorm scale is a Log scale for both positive and negative values\n",
    "# and is linear within a certain range around 0\n",
    "\n",
    "ax = plt.subplot()\n",
    "plt.imshow(skymap.skymap().array(),origin='lower',\n",
    "           extent=[ra+0.02*20,ra-0.02*20,dec-0.02*20,dec+0.02*20],\n",
    "           # boundaries of the coord grid\n",
    "           norm=SymLogNorm(1)) # the scale will be linear within +-1 count\n",
    "ax.set_xlabel('R.A. (deg)')\n",
    "ax.set_ylabel('Dec (deg)')\n",
    "cbar = plt.colorbar()\n",
    "cbar.set_label('Counts')"
   ]
  },
  {
   "cell_type": "code",
   "execution_count": null,
   "id": "perfect-connecticut",
   "metadata": {},
   "outputs": [],
   "source": []
  }
 ],
 "metadata": {
  "kernelspec": {
   "display_name": "Python 3",
   "language": "python",
   "name": "python3"
  },
  "language_info": {
   "codemirror_mode": {
    "name": "ipython",
    "version": 3
   },
   "file_extension": ".py",
   "mimetype": "text/x-python",
   "name": "python",
   "nbconvert_exporter": "python",
   "pygments_lexer": "ipython3",
   "version": "3.7.3"
  }
 },
 "nbformat": 4,
 "nbformat_minor": 5
}
