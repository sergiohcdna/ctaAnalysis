{
 "cells": [
  {
   "cell_type": "markdown",
   "id": "clear-writing",
   "metadata": {},
   "source": [
    "# Create DM-model using GModelSpectralTable\n",
    "\n",
    "The DM-induced photon spectra is complex and can not be modeled using analytic formula (at least of the spectrum computed from generators as Pythia).\n",
    "\n",
    "In gammalib, such complex spectra can be managed using the [**GModelSpectralTable**](http://cta.irap.omp.eu/gammalib/users/user_manual/modules/model/sky/spectral.html#table-model). In this  this notebook you can learn how to create, save and manage a DM model using this class.\n",
    "\n",
    "We use the dmspectrum class to compute the number of photons at some energy. See [dmspec_example](https://github.com/sergiohcdna/ctaAnalysis/blob/development/examples/dmspec_example.py). You can adapt the script to read directly from the *.dat* files or use your preferred interpolator package.\n",
    "\n",
    "We create the GModelSpectralTable using the DM mass of the candidate, and the annihilation channel as (fixed) parameters. Also, GModelSpectralTable requires that all the values of the spectra are computed over the same energy range, so we increase the number of energy bins in order to have *sufficient* number of points for candidates with masses $\\thicksim100 GeV$.\n",
    "\n",
    "As in the GSpectralFunc, the GModelSpectralTable accept a normalization parameter, **Normalization**, where the information of the astrophysical factor and the cross-section is encapsulated(?).\n",
    "\n",
    "Thanks to Jürgen and Luigi for the help and discussion about this example.\n"
   ]
  },
  {
   "cell_type": "code",
   "execution_count": 1,
   "id": "blessed-niagara",
   "metadata": {},
   "outputs": [],
   "source": [
    "import gammalib\n",
    "import numpy as np\n",
    "\n",
    "import matplotlib.pyplot as plt\n",
    "%matplotlib inline\n",
    "\n",
    "from ctaAnalysis.dmspectrum.dmspectra import dmspectrum"
   ]
  },
  {
   "cell_type": "markdown",
   "id": "automatic-interference",
   "metadata": {},
   "source": [
    "First, we define some quantities related to energy extension in the **GModelSpectralTable**:\n",
    "\n",
    "- Number of energy bins\n",
    "- Min energy $E_{\\text{min}}$ (in GeV)\n",
    "- Max energy $E_{\\text{min}}$ (in GeV)\n"
   ]
  },
  {
   "cell_type": "code",
   "execution_count": 2,
   "id": "growing-minister",
   "metadata": {},
   "outputs": [],
   "source": [
    "nebins = 150                                      # Number of bins\n",
    "emin   = gammalib.GEnergy(30.0, 'GeV')            # E_min\n",
    "emax   = gammalib.GEnergy(100.0, 'TeV')           # E_max\n",
    "ebins  = gammalib.GEbounds(nebins, emin, emax)    # Array with definitions of energy bins\n"
   ]
  },
  {
   "cell_type": "markdown",
   "id": "bizarre-estimate",
   "metadata": {},
   "source": [
    "I need a numpy array for the energies, too. This is required by the `dmspectrum` class."
   ]
  },
  {
   "cell_type": "code",
   "execution_count": 3,
   "id": "written-adoption",
   "metadata": {},
   "outputs": [],
   "source": [
    "energies = np.zeros((nebins))\n",
    "for i in range(nebins):\n",
    "    energies[i] = ebins.elogmean(i).GeV()\n"
   ]
  },
  {
   "cell_type": "markdown",
   "id": "sudden-newark",
   "metadata": {},
   "source": [
    "Next, define the value of masses needed to compute the photon spectrum"
   ]
  },
  {
   "cell_type": "code",
   "execution_count": 4,
   "id": "smaller-bibliography",
   "metadata": {},
   "outputs": [],
   "source": [
    "masses = [100.0, 115.0, 133.0, 155.0, 176.0, 202.0, 233.0, 268.0, 309.0, 356.0, 410.0, 470.0,\n",
    "          543.0, 625.0, 720.0, 829.0, 954.0, 1100.0, 1265.0, 1455.0, 1677.0, 1930.0, 2223.0,\n",
    "          2560.0, 2947.0, 3393.0, 3907.0, 4500.0, 5180.0, 5965.0, 6866.0, 7906.0, 9105.0,\n",
    "          10480.0, 12068.0, 13895.0, 16000.0, 18420.0, 21210.0, 24420.0, 28120.0,\n",
    "          32375.0, 37275.0, 42920.0, 49417.0, 56900.0, 65515.0, 75430.0, 86850.0, 100000.0]"
   ]
  },
  {
   "cell_type": "markdown",
   "id": "accessible-miracle",
   "metadata": {},
   "source": [
    "Now, I define some quantities required to create an instance of `dmspectrum` class"
   ]
  },
  {
   "cell_type": "code",
   "execution_count": 5,
   "id": "eight-cargo",
   "metadata": {},
   "outputs": [],
   "source": [
    "eblmodel = 'dominguez'\n",
    "channel  = 'Tau'\n",
    "redshift = 0.028"
   ]
  },
  {
   "cell_type": "markdown",
   "id": "educated-samoa",
   "metadata": {},
   "source": [
    "In this cell, I put some definitions for the Table parameters and the GNdarray to save the spectrum data\n",
    "\n",
    "Remember that, the spectrum for the different masses is computed over the same energy range $[30.0\\text{GeV}, 100\\text{GeV}]$ then, for example for a mass $m=150\\text{TeV}$, for energies $E>m$ the spectrum $\\mathrm{d}N/\\mathrm{d}E$ will be zero."
   ]
  },
  {
   "cell_type": "code",
   "execution_count": 6,
   "id": "measured-piano",
   "metadata": {},
   "outputs": [],
   "source": [
    "# The parameter is defined with (name, factor_value, scale)\n",
    "dmmass   = gammalib.GModelPar('Mass', 1.0e+3)\n",
    "dmmass.unit('GeV')\n",
    "par_mass = gammalib.GModelSpectralTablePar(dmmass, masses)\n",
    "pars     = gammalib.GModelSpectralTablePars()\n",
    "pars.append(par_mass)\n",
    "spectra  = gammalib.GNdarray(len(masses), nebins)"
   ]
  },
  {
   "cell_type": "code",
   "execution_count": null,
   "id": "protected-montana",
   "metadata": {},
   "outputs": [],
   "source": [
    "for index, mass in enumerate(masses):\n",
    "    #    Create an instance of dmspectrum\n",
    "    dminterp = dmspectrum(mass, energies, channel, redshift, eblmod=eblmodel)\n",
    "    spec     = dminterp.spectra()\n",
    "    for eindex in range(nebins):\n",
    "        spectra[index, eindex] = spec[eindex]\n",
    "\n",
    "model = gammalib.GModelSpectralTable(ebins, pars, spectra)\n",
    "model.table_par('Mass').method(0)\n",
    "model.save('DM_tau.fits', True)"
   ]
  },
  {
   "cell_type": "markdown",
   "id": "eleven-trunk",
   "metadata": {},
   "source": [
    "## Reading the table model"
   ]
  },
  {
   "cell_type": "code",
   "execution_count": null,
   "id": "given-playback",
   "metadata": {},
   "outputs": [],
   "source": [
    "tmodel = gammalib.GModelSpectralTable()\n",
    "tmodel.load('DM_tau.fits')\n",
    "print(tmodel)"
   ]
  },
  {
   "cell_type": "markdown",
   "id": "premium-sterling",
   "metadata": {},
   "source": [
    "You can change the value of the mass of the dark matter candidate, and `GModelSpectralTable` compute the spectrum at this new value. Also you can pass the value of the prefactor $N=\\frac{\\langle\\sigma v\\rangle}{8\\pi m}\\times J$"
   ]
  },
  {
   "cell_type": "code",
   "execution_count": null,
   "id": "super-thesis",
   "metadata": {},
   "outputs": [],
   "source": [
    "#   checking spectra for mass = 175 GeV\n",
    "mymass = 175\n",
    "par_m  = tmodel['Mass']\n",
    "par_m.value(mymass)\n",
    "\n",
    "par_norm = tmodel['Normalization']\n",
    "j        = 1.e+18\n",
    "sigmav   = 3.0e-26\n",
    "mynorm   = sigmav / 8 / gammalib.pi / mymass / mymass * j\n",
    "par_norm.value(mynorm)\n",
    "\n",
    "nemin  = 35  # in GeV\n",
    "nemax  = 200 # in GeV\n",
    "nbins  = 50  # number of bins\n",
    "dnde_a = []  # to save the spectrum\n",
    "elogspace = np.logspace(np.log10(nemin), np.log10(nemax), nbins)\n",
    "for n, energy in enumerate(elogspace):\n",
    "    echeck = gammalib.GEnergy(energy,'GeV')\n",
    "    tdnde  = tmodel.eval(echeck)\n",
    "    dnde_a.append(tdnde)"
   ]
  },
  {
   "cell_type": "code",
   "execution_count": null,
   "id": "heated-boating",
   "metadata": {},
   "outputs": [],
   "source": [
    "fig, ax = plt.subplots(figsize=(9,6))\n",
    "ax.plot(elogspace, dnde_a, label='{:.2f}GeV'.format(mymass), lw=2)\n",
    "ax.set_xlim(nemin,nemax)\n",
    "ax.set_xlim(10.0,5.0e+2)\n",
    "ax.set_ylim(1.0e-18,1.0e-13)\n",
    "ax.set_xscale('log')\n",
    "ax.set_yscale('log')\n",
    "ax.set_xlabel('Energy(GeV)', fontsize=18)\n",
    "ax.set_ylabel('$\\\\frac{dN}{dE}$', fontsize=18)\n",
    "ax.legend(loc='best', prop={'size':14})\n",
    "ax.tick_params(labelsize=15)"
   ]
  },
  {
   "cell_type": "markdown",
   "id": "trying-philosophy",
   "metadata": {},
   "source": [
    "You can define a source model as usual"
   ]
  },
  {
   "cell_type": "code",
   "execution_count": null,
   "id": "arabic-clock",
   "metadata": {},
   "outputs": [],
   "source": [
    "srcname = 'ToyDH'\n",
    "ra      = 188.0   # in degrees\n",
    "dec     = 12.5    # in degrees\n",
    "\n",
    "spatial = gammalib.GModelSpatialPointSource(ra, dec)"
   ]
  },
  {
   "cell_type": "code",
   "execution_count": null,
   "id": "precious-saint",
   "metadata": {},
   "outputs": [],
   "source": [
    "par_m.fix() # Fix parameter mass"
   ]
  },
  {
   "cell_type": "code",
   "execution_count": null,
   "id": "emotional-numbers",
   "metadata": {},
   "outputs": [],
   "source": [
    "# And now, the GModelSky\n",
    "dmmodel = gammalib.GModelSky(spatial, tmodel)\n",
    "dmmodel.name(srcname)"
   ]
  },
  {
   "cell_type": "code",
   "execution_count": null,
   "id": "explicit-consolidation",
   "metadata": {},
   "outputs": [],
   "source": [
    "#   spectral correction\n",
    "spectral = gammalib.GModelSpectralPlaw(1, 0, gammalib.GEnergy(1, 'TeV'))\n",
    "\n",
    "# create background model\n",
    "bkgmodel = gammalib.GCTAModelIrfBackground(spectral)\n",
    "bkgmodel.name('Background')\n",
    "bkgmodel.instruments('CTA')"
   ]
  },
  {
   "cell_type": "code",
   "execution_count": null,
   "id": "described-fusion",
   "metadata": {},
   "outputs": [],
   "source": [
    "models = gammalib.GModels()\n",
    "models.append(dmmodel)\n",
    "models.append(bkgmodel)\n",
    "print(models)"
   ]
  },
  {
   "cell_type": "code",
   "execution_count": null,
   "id": "banner-religious",
   "metadata": {},
   "outputs": [],
   "source": []
  }
 ],
 "metadata": {
  "kernelspec": {
   "display_name": "Python 3",
   "language": "python",
   "name": "python3"
  },
  "language_info": {
   "codemirror_mode": {
    "name": "ipython",
    "version": 3
   },
   "file_extension": ".py",
   "mimetype": "text/x-python",
   "name": "python",
   "nbconvert_exporter": "python",
   "pygments_lexer": "ipython3",
   "version": "3.7.3"
  }
 },
 "nbformat": 4,
 "nbformat_minor": 5
}
