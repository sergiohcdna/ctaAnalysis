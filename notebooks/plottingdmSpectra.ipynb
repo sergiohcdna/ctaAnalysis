{
 "cells": [
  {
   "cell_type": "markdown",
   "id": "black-majority",
   "metadata": {},
   "source": [
    "# Plotting DM spectra from PPPC4DMID\n",
    "\n",
    "So, with the fits table created in the previous example, I will plot some spectra"
   ]
  },
  {
   "cell_type": "code",
   "execution_count": 1,
   "id": "embedded-block",
   "metadata": {},
   "outputs": [],
   "source": [
    "%matplotlib inline\n",
    "import gammalib\n",
    "import matplotlib.pyplot as plt"
   ]
  },
  {
   "cell_type": "code",
   "execution_count": 2,
   "id": "invalid-majority",
   "metadata": {},
   "outputs": [
    {
     "name": "stdout",
     "output_type": "stream",
     "text": [
      "=== GFits ===\n",
      " Filename ..................: PPPC4DMIDGammasEW.fits\n",
      " History ...................: existing file\n",
      " Mode ......................: read/write\n",
      " Number of HDUs ............: 5\n",
      "=== GFitsImage ===\n",
      " HDU number ................: 0\n",
      " HDU name ..................: Primary\n",
      " Image type ................: unsigned byte\n",
      " Number of dimensions ......: 0\n",
      " Number of image pixels ....: 0\n",
      "=== GFitsTable ===\n",
      " HDU number ................: 1\n",
      " HDU name ..................: DM-Masses\n",
      " Table type ................: Binary table\n",
      " Number of rows ............: 62\n",
      " Number of columns .........: 1\n",
      "=== GFitsTable ===\n",
      " HDU number ................: 2\n",
      " HDU name ..................: log(E/m_DM)\n",
      " Table type ................: Binary table\n",
      " Number of rows ............: 179\n",
      " Number of columns .........: 1\n",
      "=== GFitsTable ===\n",
      " HDU number ................: 3\n",
      " HDU name ..................: Channels\n",
      " Table type ................: Binary table\n",
      " Number of rows ............: 28\n",
      " Number of columns .........: 1\n",
      "=== GFitsTable ===\n",
      " HDU number ................: 4\n",
      " HDU name ..................: DMSpectra\n",
      " Table type ................: Binary table\n",
      " Number of rows ............: 62\n",
      " Number of columns .........: 28\n"
     ]
    }
   ],
   "source": [
    "#    Reading fits file with spectra\n",
    "fname  = 'PPPC4DMIDGammasEW.fits'\n",
    "ftable = gammalib.GFits( fname )\n",
    "\n",
    "print( ftable )"
   ]
  },
  {
   "cell_type": "code",
   "execution_count": 3,
   "id": "round-paris",
   "metadata": {},
   "outputs": [],
   "source": [
    "# getting spectra table\n",
    "dndx = ftable[ 'DMSpectra' ]"
   ]
  },
  {
   "cell_type": "code",
   "execution_count": 4,
   "id": "august-roots",
   "metadata": {},
   "outputs": [],
   "source": [
    "# getting spectra for channel tau\n",
    "spec_tau = dndx[ 'Tau' ]"
   ]
  },
  {
   "cell_type": "code",
   "execution_count": 5,
   "id": "greater-partition",
   "metadata": {},
   "outputs": [],
   "source": [
    "#    get E/m_DM values\n",
    "x    = []\n",
    "for index in range( ftable[ 'log(E/m_DM)' ].nrows() ) :\n",
    "    x.append( ftable[ 'log(E/m_DM)' ][ 0 ].real( index ) )\n",
    "    "
   ]
  },
  {
   "cell_type": "code",
   "execution_count": 6,
   "id": "optional-pizza",
   "metadata": {},
   "outputs": [],
   "source": [
    "#    Get spectra for 5 TeV and 10 TeV\n",
    "speca  = []\n",
    "specb = []\n",
    "for index in range( spec_tau.number() ) :\n",
    "    speca.append( spec_tau[ 50 , index ] )\n",
    "    specb.append( spec_tau[ 55 , index ] )\n"
   ]
  },
  {
   "cell_type": "code",
   "execution_count": 7,
   "id": "scheduled-above",
   "metadata": {},
   "outputs": [
    {
     "data": {
      "text/plain": [
       "<matplotlib.legend.Legend at 0x111729fd0>"
      ]
     },
     "execution_count": 7,
     "metadata": {},
     "output_type": "execute_result"
    },
    {
     "data": {
      "image/png": "[encoded data removed]",
      "text/plain": [
       "<Figure size 648x432 with 1 Axes>"
      ]
     },
     "metadata": {
      "needs_background": "light"
     },
     "output_type": "display_data"
    }
   ],
   "source": [
    "fig , ax = plt.subplots( figsize=( 9 , 6 ) )\n",
    "\n",
    "ax.set_xlim( -9 , 0 )\n",
    "ax.set_xlabel( '$\\\\log{x},\\;x=\\\\frac{E_{\\\\gamma}}{m_{DM}}$' , fontsize=18 )\n",
    "ax.set_ylabel( '$\\\\frac{dN}{d\\\\log{x}}$' , fontsize=18 )\n",
    "\n",
    "# ax.set_xscale( 'log' )\n",
    "ax.set_yscale( 'log' )\n",
    "\n",
    "ax.tick_params( labelsize=15 )\n",
    "\n",
    "ax.plot( x , speca , label='5 TeV' , lw=2 )\n",
    "ax.plot( x , specb , label='10TeV' , lw=2 )\n",
    "\n",
    "ax.legend( loc='best' , prop={ 'size': 14 } )"
   ]
  },
  {
   "cell_type": "code",
   "execution_count": null,
   "id": "flying-principle",
   "metadata": {},
   "outputs": [],
   "source": []
  }
 ],
 "metadata": {
  "kernelspec": {
   "display_name": "Python 3",
   "language": "python",
   "name": "python3"
  },
  "language_info": {
   "codemirror_mode": {
    "name": "ipython",
    "version": 3
   },
   "file_extension": ".py",
   "mimetype": "text/x-python",
   "name": "python",
   "nbconvert_exporter": "python",
   "pygments_lexer": "ipython3",
   "version": "3.7.3"
  }
 },
 "nbformat": 4,
 "nbformat_minor": 5
}
