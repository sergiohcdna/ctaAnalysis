{
 "cells": [
  {
   "cell_type": "markdown",
   "id": "grateful-delicious",
   "metadata": {},
   "source": [
    "# Reading PPPC4DMID Tables with gammalib\n",
    "\n",
    "This nb is to show only how the projected Spectral-DM class should work.\n",
    "\n",
    "Reading PPPC4DMID (Cirelli *et al.*, 2011) .dat files and converting to gammalib Fits Tables"
   ]
  },
  {
   "cell_type": "code",
   "execution_count": 1,
   "id": "destroyed-thanks",
   "metadata": {},
   "outputs": [],
   "source": [
    "import gammalib"
   ]
  },
  {
   "cell_type": "markdown",
   "id": "promotional-assets",
   "metadata": {},
   "source": [
    "Reading the file for spectra of dm annihilations with gamma-ray productions in the final states and with EW corrections"
   ]
  },
  {
   "cell_type": "code",
   "execution_count": 2,
   "id": "postal-skill",
   "metadata": {},
   "outputs": [],
   "source": [
    "ffile = '../ctaAnalysis/data/AtProduction_gammas.dat'    #    You can change the path here :P\n",
    "table = gammalib.GCsv( ffile )"
   ]
  },
  {
   "cell_type": "code",
   "execution_count": 3,
   "id": "concerned-ultimate",
   "metadata": {
    "scrolled": true
   },
   "outputs": [
    {
     "name": "stdout",
     "output_type": "stream",
     "text": [
      "=== GCsv ===\n",
      " Number of columns .........: 30\n",
      " Number of rows ............: 11099\n",
      " Floating point precision ..: default\n"
     ]
    }
   ],
   "source": [
    "print( table )"
   ]
  },
  {
   "cell_type": "markdown",
   "id": "bacterial-story",
   "metadata": {},
   "source": [
    "So, PPPC4DMID tables contains the mass of DM candidate in the first columns, and the value of $\\log{x}$ in the second column, where $x$ is:\n",
    "\n",
    "$x = \\frac{E_{\\gamma}}{m_{\\text{DM}}}$\n",
    "\n",
    "The rest of the columns in the PPPC4DMID tables contains the differential spectra:\n",
    "\n",
    "$\\frac{\\mathrm{d}N}{\\mathrm{d}\\log{x}}$\n",
    "\n",
    "I want to extract the unique values for DM masses and $\\log{x}$, and save these values in a GFitsCol"
   ]
  },
  {
   "cell_type": "code",
   "execution_count": 4,
   "id": "apart-bracket",
   "metadata": {},
   "outputs": [],
   "source": [
    "def unique_elements( mylist ) :\n",
    "    \n",
    "    unique = []\n",
    "    \n",
    "    for x in mylist :\n",
    "        if x not in unique :\n",
    "            unique.append( x )\n",
    "            \n",
    "    return unique\n",
    "\n",
    "dmmasses = []    #    List to save values of masses\n",
    "logxvals = []    #    List to save values of logx\n",
    "\n",
    "for row in range( table.nrows() ) :\n",
    "\n",
    "    if row > 0 :\n",
    "        \n",
    "        dmmasses.append( table.integer( row , 0 ) )\n",
    "        logxvals.append( table.real( row , 1 ) )\n",
    "\n",
    "#    Unique values for mass and logx\n",
    "dmmunique = unique_elements( dmmasses )\n",
    "logx      = unique_elements( logxvals )\n"
   ]
  },
  {
   "cell_type": "markdown",
   "id": "narrative-excess",
   "metadata": {},
   "source": [
    "I do the same for the channels"
   ]
  },
  {
   "cell_type": "code",
   "execution_count": 5,
   "id": "otherwise-bacon",
   "metadata": {},
   "outputs": [],
   "source": [
    "#    List to save annihilation channels\n",
    "channels = []\n",
    "\n",
    "for col in range( table.ncols() ) :\n",
    "    \n",
    "    if col > 1 :\n",
    "        \n",
    "        ch = table.string( 0 , col )\n",
    "        #    Remove some junk chars :P\n",
    "        channels.append( ch.translate( { ord( k ): None for k in '\\\\\\[\\]'} ) )\n"
   ]
  },
  {
   "cell_type": "markdown",
   "id": "verified-teaching",
   "metadata": {},
   "source": [
    "## Saving to GFitsTable. I\n",
    "\n",
    "Now, I am saving the relevant values for masses, $x$ and annihilation channels.\n",
    "\n",
    "First for masses:"
   ]
  },
  {
   "cell_type": "code",
   "execution_count": 6,
   "id": "fresh-virginia",
   "metadata": {},
   "outputs": [
    {
     "name": "stdout",
     "output_type": "stream",
     "text": [
      "=== GFitsTable ===\n",
      " HDU number ................: 0\n",
      " HDU name ..................: DM-Masses\n",
      " Table type ................: Binary table\n",
      " Number of rows ............: 62\n",
      " Number of columns .........: 1\n",
      "=== GFitsHeader (7 cards) ===\n"
     ]
    }
   ],
   "source": [
    "masses = gammalib.GFitsTableLongCol( 'DMMasses' , len( dmmunique ) )\n",
    "\n",
    "for index in range( len( dmmunique ) ) :\n",
    "    \n",
    "    masses[ index ] = dmmunique[ index ]\n",
    "\n",
    "#    Unit of masses\n",
    "masses.unit( 'GeV' )\n",
    "\n",
    "#    Create a BinTable to save column\n",
    "mtable = gammalib.GFitsBinTable()\n",
    "\n",
    "mtable.append( masses )\n",
    "#    Add name to the binTable\n",
    "mtable.extname( 'DM-Masses' )\n",
    "\n",
    "print( mtable )"
   ]
  },
  {
   "cell_type": "markdown",
   "id": "medium-dating",
   "metadata": {},
   "source": [
    "And for channels and $x$ (I will convert from $\\log{x}$ to ${x}$)"
   ]
  },
  {
   "cell_type": "code",
   "execution_count": 7,
   "id": "promotional-organic",
   "metadata": {},
   "outputs": [
    {
     "name": "stdout",
     "output_type": "stream",
     "text": [
      "=== GFitsTable ===\n",
      " HDU number ................: 0\n",
      " HDU name ..................: Channels\n",
      " Table type ................: Binary table\n",
      " Number of rows ............: 28\n",
      " Number of columns .........: 1\n",
      "=== GFitsHeader (7 cards) ===\n",
      "=== GFitsTable ===\n",
      " HDU number ................: 0\n",
      " HDU name ..................: E/m_DM\n",
      " Table type ................: Binary table\n",
      " Number of rows ............: 179\n",
      " Number of columns .........: 1\n",
      "=== GFitsHeader (7 cards) ===\n"
     ]
    }
   ],
   "source": [
    "gchannels = gammalib.GFitsTableStringCol( 'Channel' , len( channels ) , 7 )\n",
    "\n",
    "for i , channel in enumerate( channels ) :\n",
    "    gchannels[ i ] = channel\n",
    "\n",
    "#    then, create binary tables for the channels\n",
    "chtable = gammalib.GFitsBinTable()\n",
    "\n",
    "chtable.append( gchannels )\n",
    "chtable.extname( 'Channels' )\n",
    "\n",
    "print( chtable )\n",
    "\n",
    "#    The same for xvalues\n",
    "xvals = gammalib.GFitsTableDoubleCol( 'xValues' , len( logx ) )\n",
    "\n",
    "for i, xval in enumerate( logx ) :\n",
    "    xvals[ i ] = 10**xval\n",
    "\n",
    "xvals.unit( 'Dimensionless (E/m_DM)' )\n",
    "\n",
    "xtable = gammalib.GFitsBinTable()\n",
    "\n",
    "xtable.extname( 'E/m_DM' )\n",
    "xtable.append( xvals )\n",
    "\n",
    "print( xtable )"
   ]
  },
  {
   "cell_type": "markdown",
   "id": "proprietary-career",
   "metadata": {},
   "source": [
    "## Getting spectra and saving to a GFitsTable\n",
    "\n",
    "The following functions get:\n",
    "\n",
    "1. Indices where the PPC4DMID first column is equal to some DM mass\n",
    "2. Index for channel in the PPPC4DMID header\n",
    "3. The $\\mathrm{d}N/\\mathrm{d}{x}$ for specific channel and mass"
   ]
  },
  {
   "cell_type": "code",
   "execution_count": 8,
   "id": "responsible-belfast",
   "metadata": {},
   "outputs": [],
   "source": [
    "#    get index where column is equal to mass in PPPC4DMID table\n",
    "def get_indices( mass , table ) :\n",
    "    \n",
    "    indices = []\n",
    "    \n",
    "    for row in range( table.nrows() ) :\n",
    "        \n",
    "        if row > 0 :\n",
    "            if table.integer( row , 0 ) == mass :\n",
    "                indices.append( row )\n",
    "\n",
    "    return indices\n"
   ]
  },
  {
   "cell_type": "code",
   "execution_count": 9,
   "id": "rolled-algebra",
   "metadata": {},
   "outputs": [],
   "source": [
    "#    Get index for channel :P\n",
    "def get_index( ch , channels ) :\n",
    "\n",
    "    index = 0\n",
    "    \n",
    "    for row in range( channels.nrows() ) :\n",
    "        \n",
    "        if ch == channels.string( row ) :\n",
    "            index = row\n",
    "            \n",
    "    return index\n"
   ]
  },
  {
   "cell_type": "code",
   "execution_count": 10,
   "id": "convenient-dealing",
   "metadata": {},
   "outputs": [],
   "source": [
    "#    Get dn/dlogx for a set masses in the PPPC4DMID and channel ch\n",
    "def create_spectra_col( masses , xvals , ch , gchannels , table ) :\n",
    "    \n",
    "    nrows = masses.nrows()\n",
    "    size  = xvals.nrows()\n",
    "    \n",
    "    spectra_col  = gammalib.GFitsTableDoubleCol( ch , nrows , size )\n",
    "    channel_col  = get_index( ch , gchannels ) + 2\n",
    "    \n",
    "    for row in range( nrows ) :\n",
    "        \n",
    "        spec_indices = get_indices( masses.integer( row ) , table )\n",
    "        \n",
    "        for index in range( size ) :\n",
    "            \n",
    "            dndlogx = table.real( spec_indices[ index ], channel_col )\n",
    "            x       = xvals[ index ]\n",
    "            #    Convert from dn/dlogx to dn/dx\n",
    "            spectra_col[ row , index ] = dndlogx / x / gammalib.ln10\n",
    "    \n",
    "    return spectra_col\n"
   ]
  },
  {
   "cell_type": "markdown",
   "id": "atomic-slovak",
   "metadata": {},
   "source": [
    "Now, I create a table to save the spectra for all channels"
   ]
  },
  {
   "cell_type": "code",
   "execution_count": 11,
   "id": "secure-romania",
   "metadata": {},
   "outputs": [
    {
     "name": "stdout",
     "output_type": "stream",
     "text": [
      "=== GFitsTable ===\n",
      " HDU number ................: 0\n",
      " HDU name ..................: DMSpectra\n",
      " Table type ................: Binary table\n",
      " Number of rows ............: 62\n",
      " Number of columns .........: 28\n",
      "=== GFitsHeader (89 cards) ===\n"
     ]
    }
   ],
   "source": [
    "#    Now getting all the spectra for the channels and save them into a fits table\n",
    "\n",
    "#    Create bin table to save spectra data\n",
    "dmtable = gammalib.GFitsBinTable()\n",
    "\n",
    "#    I will save all the channels in PPPC4DMID tables\n",
    "#    So, I need to loop over al the channels\n",
    "for ich in range( gchannels.nrows() ) :\n",
    "    \n",
    "    channel = gchannels[ ich ]\n",
    "    thiscol = create_spectra_col( masses , xvals , channel , gchannels , table )\n",
    "    dmtable.append( thiscol )\n",
    "\n",
    "#    Add cards and extension\n",
    "dmtable.extname( 'DMSpectra' )\n",
    "\n",
    "dmtable.card( 'dn/dx' , 'PPPC4DMID' , 'EWCorrections' )\n",
    "\n",
    "print( dmtable )\n"
   ]
  },
  {
   "cell_type": "markdown",
   "id": "directed-guitar",
   "metadata": {},
   "source": [
    "## Saving to fits file\n",
    "\n",
    "Finally, create a fits file and save all the spectra"
   ]
  },
  {
   "cell_type": "code",
   "execution_count": 12,
   "id": "elegant-cooling",
   "metadata": {},
   "outputs": [
    {
     "name": "stdout",
     "output_type": "stream",
     "text": [
      "=== GFits ===\n",
      " Filename ..................: \n",
      " History ...................: new file\n",
      " Mode ......................: read/write\n",
      " Number of HDUs ............: 5\n",
      "=== GFitsImage ===\n",
      " HDU number ................: 0\n",
      " HDU name ..................: Primary\n",
      " Image type ................: unsigned byte\n",
      " Number of dimensions ......: 0\n",
      " Number of image pixels ....: 0\n",
      "=== GFitsTable ===\n",
      " HDU number ................: 1\n",
      " HDU name ..................: DM-Masses\n",
      " Table type ................: Binary table\n",
      " Number of rows ............: 62\n",
      " Number of columns .........: 1\n",
      "=== GFitsTable ===\n",
      " HDU number ................: 2\n",
      " HDU name ..................: E/m_DM\n",
      " Table type ................: Binary table\n",
      " Number of rows ............: 179\n",
      " Number of columns .........: 1\n",
      "=== GFitsTable ===\n",
      " HDU number ................: 3\n",
      " HDU name ..................: Channels\n",
      " Table type ................: Binary table\n",
      " Number of rows ............: 28\n",
      " Number of columns .........: 1\n",
      "=== GFitsTable ===\n",
      " HDU number ................: 4\n",
      " HDU name ..................: DMSpectra\n",
      " Table type ................: Binary table\n",
      " Number of rows ............: 62\n",
      " Number of columns .........: 28\n"
     ]
    }
   ],
   "source": [
    "#     And now, append all the tables\n",
    "thisfits = gammalib.GFits()\n",
    "thisfits.append( mtable )\n",
    "thisfits.append( xtable )\n",
    "thisfits.append( chtable )\n",
    "thisfits.append( dmtable )\n",
    "\n",
    "print( thisfits )\n",
    "\n",
    "fitsname = 'PPPC4DMIDGammasEW.fits'\n",
    "clobber  = True    #    Overwrite files\n",
    "thisfits.saveto( fitsname , clobber )"
   ]
  },
  {
   "cell_type": "code",
   "execution_count": null,
   "id": "wicked-valve",
   "metadata": {},
   "outputs": [],
   "source": []
  }
 ],
 "metadata": {
  "kernelspec": {
   "display_name": "Python 3",
   "language": "python",
   "name": "python3"
  },
  "language_info": {
   "codemirror_mode": {
    "name": "ipython",
    "version": 3
   },
   "file_extension": ".py",
   "mimetype": "text/x-python",
   "name": "python",
   "nbconvert_exporter": "python",
   "pygments_lexer": "ipython3",
   "version": "3.7.3"
  }
 },
 "nbformat": 4,
 "nbformat_minor": 5
}
